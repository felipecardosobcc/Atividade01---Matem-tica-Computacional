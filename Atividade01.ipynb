{
  "nbformat": 4,
  "nbformat_minor": 0,
  "metadata": {
    "colab": {
      "provenance": [],
      "authorship_tag": "ABX9TyOv43L1Dx+WDhoIbsBYo2WU",
      "include_colab_link": true
    },
    "kernelspec": {
      "name": "python3",
      "display_name": "Python 3"
    },
    "language_info": {
      "name": "python"
    }
  },
  "cells": [
    {
      "cell_type": "markdown",
      "metadata": {
        "id": "view-in-github",
        "colab_type": "text"
      },
      "source": [
        "<a href=\"https://colab.research.google.com/github/felipecardosobcc/Atividade01---Matem-tica-Computacional/blob/main/Atividade01.ipynb\" target=\"_parent\"><img src=\"https://colab.research.google.com/assets/colab-badge.svg\" alt=\"Open In Colab\"/></a>"
      ]
    },
    {
      "cell_type": "markdown",
      "source": [
        "# **Atividade 0 - Uso do Jupyter, Git, Matplotlib e Transformações Lineares**\n",
        "\n",
        "## Descrição da Tarefa:\n",
        "\n",
        "Implemente, utilizando uma ferramenta do tipo Jupyter (ex.: Jupyter Notebook, JupyterLab, Google Colab), um notebook que demonstre:\n",
        "\n",
        "\n",
        "\n",
        "1.   Rotação horária de 90° e shear (cisalhamento) em x, diferentes dos exemplos apresentados em sala.\n",
        "2.   A obtenção das matrizes de transformação a partir dos vetores unitários (bases) — mostrando o processo numericamente e graficamente com o Matplotlib.\n",
        "3. A aplicação passo a passo dessas matrizes a dois vetores arbitrários, com apresentação de resultados numéricos e gráficos no Matplotlib.\n",
        "\n",
        "Requisitos obrigatórios:\n",
        "\n",
        "\n",
        "\n",
        "*   Uso de ferramenta Jupyter-like (Jupyter Notebook, Colab, etc.).\n",
        "*   Versionamento e entrega via Git (enviar o link do repositório).\n",
        "\n",
        "\n",
        "\n",
        "\n"
      ],
      "metadata": {
        "id": "icjjvCRf_wJo"
      }
    },
    {
      "cell_type": "code",
      "execution_count": 26,
      "metadata": {
        "collapsed": true,
        "id": "g-AoJdmG5WiJ"
      },
      "outputs": [],
      "source": [
        "# pip install matplotlib\n",
        "# pip install numpy"
      ]
    },
    {
      "cell_type": "code",
      "source": [
        "# Importação das bibliotecas\n",
        "import matplotlib.pyplot as plt\n",
        "import numpy as np\n",
        "\n",
        "# Vetor\n",
        "vetor = np.array([6, 8])\n",
        "\n",
        "# Plot\n",
        "plt.figure() # Iniciando o gráfico\n",
        "plt.quiver(0, 0, vetor[0], vetor[1], angles='xy', scale_units='xy', scale=1, color='b') # Desenhando o vetor\n",
        "plt.xlim(0, 10) # Definindo os limites do eixo X\n",
        "plt.ylim(0, 10) # Definindo os limites do eixo Y\n",
        "plt.grid(True) # Ativando as grades do gráfico\n",
        "ax = plt.gca()  # pega os eixos atuais\n",
        "ax.spines['left'].set_color('black')\n",
        "ax.spines['bottom'].set_color('black')\n",
        "ax.spines['left'].set_linewidth(1.5)\n",
        "ax.spines['bottom'].set_linewidth(1.5)\n",
        "plt.text(3.9, 0.1, 'x', fontsize=12, fontweight='bold')\n",
        "plt.text(0.1, 3.9, 'y', fontsize=12, fontweight='bold')\n",
        "plt.gca().set_aspect('equal', adjustable='box')\n",
        "plt.show() # Plotando o gráfico"
      ],
      "metadata": {
        "id": "ruyaLExp57Wj"
      },
      "execution_count": null,
      "outputs": []
    },
    {
      "cell_type": "markdown",
      "source": [
        "![grafico_exemplo.png](data:image/png;base64,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)"
      ],
      "metadata": {
        "id": "oqX53v-2w0Nm"
      }
    },
    {
      "cell_type": "code",
      "source": [],
      "metadata": {
        "id": "tPE1S9SGzxWP"
      },
      "execution_count": 56,
      "outputs": []
    }
  ]
}