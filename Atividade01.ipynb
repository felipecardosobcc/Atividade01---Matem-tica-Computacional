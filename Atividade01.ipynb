{
  "nbformat": 4,
  "nbformat_minor": 0,
  "metadata": {
    "colab": {
      "provenance": [],
      "authorship_tag": "ABX9TyMpb/lKxTQHuZh98apLr9TC",
      "include_colab_link": true
    },
    "kernelspec": {
      "name": "python3",
      "display_name": "Python 3"
    },
    "language_info": {
      "name": "python"
    }
  },
  "cells": [
    {
      "cell_type": "markdown",
      "metadata": {
        "id": "view-in-github",
        "colab_type": "text"
      },
      "source": [
        "<a href=\"https://colab.research.google.com/github/felipecardosobcc/Atividade01---Matem-tica-Computacional/blob/main/Atividade01.ipynb\" target=\"_parent\"><img src=\"https://colab.research.google.com/assets/colab-badge.svg\" alt=\"Open In Colab\"/></a>"
      ]
    },
    {
      "cell_type": "markdown",
      "source": [
        "# **Atividade 0 - Uso do Jupyter, Git, Matplotlib e Transformações Lineares**\n",
        "\n",
        "## Descrição da Tarefa:\n",
        "\n",
        "Implemente, utilizando uma ferramenta do tipo Jupyter (ex.: Jupyter Notebook, JupyterLab, Google Colab), um notebook que demonstre:\n",
        "\n",
        "\n",
        "\n",
        "1.   Rotação horária de 90° e shear (cisalhamento) em x, diferentes dos exemplos apresentados em sala.\n",
        "2.   A obtenção das matrizes de transformação a partir dos vetores unitários (bases) — mostrando o processo numericamente e graficamente com o Matplotlib.\n",
        "3. A aplicação passo a passo dessas matrizes a dois vetores arbitrários, com apresentação de resultados numéricos e gráficos no Matplotlib.\n",
        "\n",
        "Requisitos obrigatórios:\n",
        "\n",
        "\n",
        "\n",
        "*   Uso de ferramenta Jupyter-like (Jupyter Notebook, Colab, etc.).\n",
        "*   Versionamento e entrega via Git (enviar o link do repositório).\n",
        "\n",
        "\n",
        "\n",
        "\n"
      ],
      "metadata": {
        "id": "icjjvCRf_wJo"
      }
    },
    {
      "cell_type": "code",
      "execution_count": 26,
      "metadata": {
        "collapsed": true,
        "id": "g-AoJdmG5WiJ"
      },
      "outputs": [],
      "source": [
        "# pip install matplotlib\n",
        "# pip install numpy"
      ]
    },
    {
      "cell_type": "code",
      "source": [
        "# Importação das bibliotecas\n",
        "import matplotlib.pyplot as plt\n",
        "import numpy as np\n",
        "\n",
        "# Vetor\n",
        "vetor = np.array([6, 8])\n",
        "\n",
        "# Plot\n",
        "plt.figure() # Iniciando o gráfico\n",
        "plt.quiver(0, 0, vetor[0], vetor[1], angles='xy', scale_units='xy', scale=1, color='b') # Desenhando o vetor\n",
        "plt.xlim(0, 10) # Definindo os limites do eixo X\n",
        "plt.ylim(0, 10) # Definindo os limites do eixo Y\n",
        "plt.grid(True) # Ativando as grades do gráfico\n",
        "ax = plt.gca()  # pega os eixos atuais\n",
        "ax.spines['left'].set_color('black')\n",
        "ax.spines['bottom'].set_color('black')\n",
        "ax.spines['left'].set_linewidth(1.5)\n",
        "ax.spines['bottom'].set_linewidth(1.5)\n",
        "plt.text(3.9, 0.1, 'x', fontsize=12, fontweight='bold')\n",
        "plt.text(0.1, 3.9, 'y', fontsize=12, fontweight='bold')\n",
        "plt.gca().set_aspect('equal', adjustable='box')\n",
        "plt.show() # Plotando o gráfico"
      ],
      "metadata": {
        "id": "ruyaLExp57Wj"
      },
      "execution_count": null,
      "outputs": []
    },
    {
      "cell_type": "markdown",
      "source": [
        "![grafico_exemplo.png](data:image/png;base64,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)"
      ],
      "metadata": {
        "id": "oqX53v-2w0Nm"
      }
    },
    {
      "cell_type": "markdown",
      "source": [
        "## **Descobrindo o Quadrante do Vetor**\n",
        "\n",
        "Definindo uma função quadrante( ) que recebe um vetor e retorna o quadrante em que o vetor pertence.\n",
        "\n",
        "\n",
        "\n",
        "![plano-cartesiano-quadrantes.png](data:image/png;base64,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)"
      ],
      "metadata": {
        "id": "XYgJZL05riXO"
      }
    },
    {
      "cell_type": "code",
      "source": [
        "def quadrante(vector):\n",
        "  if vector[0] > 0 and vector[1] > 0:\n",
        "    return '1'\n",
        "  elif vector[0] < 0 and vector[1] > 0:\n",
        "    return '2'\n",
        "  elif vector[0] < 0 and vector[1] < 0:\n",
        "    return '3'\n",
        "  elif vector[0] > 0 and vector[1] < 0:\n",
        "    return '4'"
      ],
      "metadata": {
        "id": "tPE1S9SGzxWP"
      },
      "execution_count": 32,
      "outputs": []
    },
    {
      "cell_type": "markdown",
      "source": [
        "## **Generalizando a rotação**\n",
        "\n",
        "Com base no quadrante do vetor, a função altera o sinal do componente específico para a sua rotação em 90 graus no sentido horário."
      ],
      "metadata": {
        "id": "tzm8SwfxxdsH"
      }
    },
    {
      "cell_type": "code",
      "source": [
        "def rotacao90(vetor, quadrante):\n",
        "  R = vetor # Vetor rotacionado\n",
        "  match quadrante:\n",
        "    case '1':\n",
        "      R[1] = vetor[1] * (-1)\n",
        "    case '2':\n",
        "      R[0] = vetor[0] * (-1)\n",
        "    case '3':\n",
        "      R[1] = vetor[1] * (-1)\n",
        "    case '4':\n",
        "      R[0] = vetor[0] * (-1)\n",
        "  return R"
      ],
      "metadata": {
        "id": "eTFUYGKDsc74"
      },
      "execution_count": 23,
      "outputs": []
    },
    {
      "cell_type": "code",
      "source": [
        "#vetor = np.array([6, 8])\n",
        "\n",
        "vetor_quadrante = quadrante(vetor)\n",
        "R = rotacao90(vetor, vetor_quadrante)\n",
        "\n",
        "plt.figure()\n",
        "plt.quiver(0, 0, R[0], R[1], angles='xy', scale_units='xy', scale=1, color='b')\n",
        "plt.xlim(-6, 6)\n",
        "plt.ylim(-8, 8)\n",
        "plt.grid(True)\n",
        "\n",
        "ax = plt.gca()\n",
        "ax.spines['top'].set_visible(False)\n",
        "ax.spines['right'].set_visible(False)\n",
        "ax.spines['left'].set_position('zero')\n",
        "ax.spines['bottom'].set_position('zero')\n",
        "ax.spines['left'].set_color('black')\n",
        "ax.spines['bottom'].set_color('black')\n",
        "ax.spines['left'].set_linewidth(1.5)\n",
        "ax.spines['bottom'].set_linewidth(1.5)\n",
        "\n",
        "plt.text(3.9, 0.1, 'x', fontsize=12, fontweight='bold')\n",
        "plt.text(0.1, 3.9, 'y', fontsize=12, fontweight='bold')\n",
        "plt.gca().set_aspect('equal', adjustable='box')\n",
        "plt.show()"
      ],
      "metadata": {
        "id": "7i7vEPqEuogq"
      },
      "execution_count": null,
      "outputs": []
    },
    {
      "cell_type": "markdown",
      "source": [
        "![vetor_rotacionado.png](data:image/png;base64,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)"
      ],
      "metadata": {
        "id": "LtPIEfcgy3M6"
      }
    }
  ]
}